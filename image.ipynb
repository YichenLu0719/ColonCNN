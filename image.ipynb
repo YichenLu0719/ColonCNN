{
 "cells": [
  {
   "cell_type": "code",
   "execution_count": 2,
   "id": "ce6dc291",
   "metadata": {},
   "outputs": [],
   "source": [
    "import os\n",
    "import cv2\n",
    "import matplotlib.image as img"
   ]
  },
  {
   "cell_type": "code",
   "execution_count": 20,
   "id": "94d28bd5",
   "metadata": {},
   "outputs": [],
   "source": [
    "array_of_img = []\n",
    "for filename in os.listdir(r'C:\\Users\\dl\\Desktop\\清腸照片\\1101021_1101202上傳完畢(1-23_1207上傳))\\5分(1-23)'):\n",
    "    img1 = img.imread(r'C:\\Users\\dl\\Desktop\\清腸照片\\1101021_1101202上傳完畢(1-23_1207上傳))\\5分(1-23)'+'\\\\'+filename)\n",
    "    array_of_img.append(img1)\n",
    "    cv2.imwrite(r'C:\\Users\\dl\\Desktop\\yc_data\\colon_AI\\ALL_image_good'+\"/\"+filename,img1)"
   ]
  },
  {
   "cell_type": "code",
   "execution_count": 22,
   "id": "30e8770a",
   "metadata": {},
   "outputs": [],
   "source": [
    "import os\n",
    "\n",
    "\n",
    "a=os.listdir(r'C:\\Users\\dl\\Desktop\\yc_data\\colon_AI\\ALL_image_good')\n",
    "\n",
    "g=len(a)\n",
    "\n",
    "for i in range(0, g):\n",
    "   os.rename(fr\"C:\\Users\\dl\\Desktop\\yc_data\\colon_AI\\ALL_image_good\\{a[i]}\",fr\"C:\\Users\\dl\\Desktop\\yc_data\\colon_AI\\train\\good\\good{i}.jpg\")"
   ]
  },
  {
   "cell_type": "code",
   "execution_count": null,
   "id": "06994025",
   "metadata": {},
   "outputs": [],
   "source": []
  }
 ],
 "metadata": {
  "kernelspec": {
   "display_name": "Python 3 (ipykernel)",
   "language": "python",
   "name": "python3"
  },
  "language_info": {
   "codemirror_mode": {
    "name": "ipython",
    "version": 3
   },
   "file_extension": ".py",
   "mimetype": "text/x-python",
   "name": "python",
   "nbconvert_exporter": "python",
   "pygments_lexer": "ipython3",
   "version": "3.10.9"
  }
 },
 "nbformat": 4,
 "nbformat_minor": 5
}
