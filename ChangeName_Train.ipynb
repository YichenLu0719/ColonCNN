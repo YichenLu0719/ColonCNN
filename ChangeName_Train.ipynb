{
 "cells": [
  {
   "cell_type": "code",
   "execution_count": 5,
   "id": "78d1cce2",
   "metadata": {},
   "outputs": [],
   "source": [
    "import csv\n",
    "import os\n",
    "from PIL import Image"
   ]
  },
  {
   "cell_type": "code",
   "execution_count": 6,
   "id": "bf2026a0",
   "metadata": {},
   "outputs": [],
   "source": [
    "# 指定Train圖片所在的資料夾路徑\n",
    "image_folder = r'C:\\Users\\dl\\Desktop\\yc_data\\babyCrawler\\CaptchaJpg\\Train'\n",
    "\n",
    "# 取得資料夾中的所有圖片檔案名稱\n",
    "image_files = os.listdir(image_folder)\n",
    "\n",
    "# 建立一個空的列表，用於儲存圖片\n",
    "train_images = []\n",
    "\n",
    "# 逐一讀取圖片並存入列表\n",
    "for file_name in image_files:\n",
    "    # 構建圖片檔案的完整路徑\n",
    "    image_path = os.path.join(image_folder, file_name)\n",
    "    \n",
    "    # 使用 Pillow 套件讀取圖片\n",
    "    image = Image.open(image_path)\n",
    "    \n",
    "    # 將圖片存入列表\n",
    "    train_images.append(image)\n",
    "    # 關閉已開啟的圖片\n",
    "    image.close()"
   ]
  },
  {
   "cell_type": "code",
   "execution_count": 7,
   "id": "862cdff7",
   "metadata": {},
   "outputs": [],
   "source": [
    "# 指定 CSV 檔案路徑\n",
    "csv_file = r'C:\\Users\\dl\\Desktop\\yc_data\\babyCrawler\\CaptchaJpg\\train_label.csv'\n",
    "\n",
    "# 指定欄位名稱，您需要修改為實際的欄位名稱\n",
    "target_column = 'label'\n",
    "\n",
    "# 建立一個空的列表，用於儲存欄位資料\n",
    "train_labels = []\n",
    "\n",
    "# 開啟 CSV 檔案並讀取資料\n",
    "with open(csv_file, 'r') as file:\n",
    "    # 使用 csv 模組建立 reader 物件\n",
    "    reader = csv.reader(file)\n",
    "    \n",
    "    # 獲取欄位名稱所在的列\n",
    "    header = next(reader)\n",
    "    \n",
    "    # 獲取目標欄位的索引值\n",
    "    target_index = header.index(target_column)\n",
    "    \n",
    "    # 逐一讀取每一列的資料\n",
    "    for row in reader:\n",
    "        # 將目標欄位的資料存入列表\n",
    "        train_labels.append(row[target_index])"
   ]
  },
  {
   "cell_type": "code",
   "execution_count": 9,
   "id": "2d15b021",
   "metadata": {},
   "outputs": [],
   "source": [
    "a = os.listdir(r'CaptchaJpg/Train')\n",
    "for i, train_label in enumerate(train_labels):\n",
    "    os.rename(f'./CaptchaJpg/Train/{a[i]}' ,f'./CaptchaJpg/Train_label/{train_labels[i]}.jpg')"
   ]
  },
  {
   "cell_type": "code",
   "execution_count": null,
   "id": "8d625f29",
   "metadata": {},
   "outputs": [],
   "source": []
  }
 ],
 "metadata": {
  "kernelspec": {
   "display_name": "Python 3 (ipykernel)",
   "language": "python",
   "name": "python3"
  },
  "language_info": {
   "codemirror_mode": {
    "name": "ipython",
    "version": 3
   },
   "file_extension": ".py",
   "mimetype": "text/x-python",
   "name": "python",
   "nbconvert_exporter": "python",
   "pygments_lexer": "ipython3",
   "version": "3.10.9"
  }
 },
 "nbformat": 4,
 "nbformat_minor": 5
}
