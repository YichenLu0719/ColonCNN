{
 "cells": [
  {
   "cell_type": "code",
   "execution_count": 7,
   "id": "7634bb53",
   "metadata": {},
   "outputs": [],
   "source": [
    "import csv\n",
    "import os\n",
    "from PIL import Image"
   ]
  },
  {
   "cell_type": "code",
   "execution_count": 8,
   "id": "7f5222c2",
   "metadata": {},
   "outputs": [],
   "source": [
    "# 指定Test圖片所在的資料夾路徑\n",
    "image_folder = r'C:\\Users\\dl\\Desktop\\yc_data\\babyCrawler\\CaptchaJpg\\Test'\n",
    "\n",
    "# 取得資料夾中的所有圖片檔案名稱\n",
    "image_files = os.listdir(image_folder)\n",
    "\n",
    "# 建立一個空的列表，用於儲存圖片\n",
    "test_images = []\n",
    "\n",
    "# 逐一讀取圖片並存入列表\n",
    "for file_name in image_files:\n",
    "    # 構建圖片檔案的完整路徑\n",
    "    image_path = os.path.join(image_folder, file_name)\n",
    "    \n",
    "    # 使用 Pillow 套件讀取圖片\n",
    "    image = Image.open(image_path)\n",
    "    \n",
    "    # 將圖片存入列表\n",
    "    test_images.append(image)\n",
    "    # 關閉已開啟的圖片\n",
    "    image.close()"
   ]
  },
  {
   "cell_type": "code",
   "execution_count": 9,
   "id": "c623bf69",
   "metadata": {},
   "outputs": [],
   "source": [
    "# 指定 CSV 檔案路徑\n",
    "csv_file = r'C:\\Users\\dl\\Desktop\\yc_data\\babyCrawler\\CaptchaJpg\\Test_label.csv'\n",
    "\n",
    "# 指定欄位名稱，您需要修改為實際的欄位名稱\n",
    "target_column = 'label'\n",
    "\n",
    "# 建立一個空的列表，用於儲存欄位資料\n",
    "test_labels = []\n",
    "\n",
    "# 開啟 CSV 檔案並讀取資料\n",
    "with open(csv_file, 'r') as file:\n",
    "    # 使用 csv 模組建立 reader 物件\n",
    "    reader = csv.reader(file)\n",
    "    \n",
    "    # 獲取欄位名稱所在的列\n",
    "    header = next(reader)\n",
    "    \n",
    "    # 獲取目標欄位的索引值\n",
    "    target_index = header.index(target_column)\n",
    "    \n",
    "    # 逐一讀取每一列的資料\n",
    "    for row in reader:\n",
    "        # 將目標欄位的資料存入列表\n",
    "        test_labels.append(row[target_index])"
   ]
  },
  {
   "cell_type": "code",
   "execution_count": 11,
   "id": "ac48b94b",
   "metadata": {},
   "outputs": [],
   "source": [
    "a = os.listdir(r'CaptchaJpg/Test')\n",
    "i=0\n",
    "for i, test_label in enumerate(test_labels):\n",
    "    os.rename(f'./CaptchaJpg/Test/{a[i]}' ,f'./CaptchaJpg/Test_label/{test_labels[i]}.jpg')"
   ]
  },
  {
   "cell_type": "code",
   "execution_count": 5,
   "id": "bf1b433b",
   "metadata": {},
   "outputs": [
    {
     "ename": "ValueError",
     "evalue": "Could not save to PNG for display",
     "output_type": "error",
     "traceback": [
      "\u001b[1;31m---------------------------------------------------------------------------\u001b[0m",
      "\u001b[1;31mValueError\u001b[0m                                Traceback (most recent call last)",
      "File \u001b[1;32mC:\\ProgramData\\anaconda3\\envs\\myenv\\lib\\site-packages\\PIL\\Image.py:681\u001b[0m, in \u001b[0;36mImage._repr_png_\u001b[1;34m(self)\u001b[0m\n\u001b[0;32m    680\u001b[0m \u001b[38;5;28;01mtry\u001b[39;00m:\n\u001b[1;32m--> 681\u001b[0m     \u001b[38;5;28;43mself\u001b[39;49m\u001b[38;5;241;43m.\u001b[39;49m\u001b[43msave\u001b[49m\u001b[43m(\u001b[49m\u001b[43mb\u001b[49m\u001b[43m,\u001b[49m\u001b[43m \u001b[49m\u001b[38;5;124;43m\"\u001b[39;49m\u001b[38;5;124;43mPNG\u001b[39;49m\u001b[38;5;124;43m\"\u001b[39;49m\u001b[43m)\u001b[49m\n\u001b[0;32m    682\u001b[0m \u001b[38;5;28;01mexcept\u001b[39;00m \u001b[38;5;167;01mException\u001b[39;00m \u001b[38;5;28;01mas\u001b[39;00m e:\n",
      "File \u001b[1;32mC:\\ProgramData\\anaconda3\\envs\\myenv\\lib\\site-packages\\PIL\\Image.py:2394\u001b[0m, in \u001b[0;36mImage.save\u001b[1;34m(self, fp, format, **params)\u001b[0m\n\u001b[0;32m   2393\u001b[0m \u001b[38;5;66;03m# may mutate self!\u001b[39;00m\n\u001b[1;32m-> 2394\u001b[0m \u001b[38;5;28;43mself\u001b[39;49m\u001b[38;5;241;43m.\u001b[39;49m\u001b[43m_ensure_mutable\u001b[49m\u001b[43m(\u001b[49m\u001b[43m)\u001b[49m\n\u001b[0;32m   2396\u001b[0m save_all \u001b[38;5;241m=\u001b[39m params\u001b[38;5;241m.\u001b[39mpop(\u001b[38;5;124m\"\u001b[39m\u001b[38;5;124msave_all\u001b[39m\u001b[38;5;124m\"\u001b[39m, \u001b[38;5;28;01mFalse\u001b[39;00m)\n",
      "File \u001b[1;32mC:\\ProgramData\\anaconda3\\envs\\myenv\\lib\\site-packages\\PIL\\Image.py:611\u001b[0m, in \u001b[0;36mImage._ensure_mutable\u001b[1;34m(self)\u001b[0m\n\u001b[0;32m    610\u001b[0m \u001b[38;5;28;01mif\u001b[39;00m \u001b[38;5;28mself\u001b[39m\u001b[38;5;241m.\u001b[39mreadonly:\n\u001b[1;32m--> 611\u001b[0m     \u001b[38;5;28;43mself\u001b[39;49m\u001b[38;5;241;43m.\u001b[39;49m\u001b[43m_copy\u001b[49m\u001b[43m(\u001b[49m\u001b[43m)\u001b[49m\n\u001b[0;32m    612\u001b[0m \u001b[38;5;28;01melse\u001b[39;00m:\n",
      "File \u001b[1;32mC:\\ProgramData\\anaconda3\\envs\\myenv\\lib\\site-packages\\PIL\\Image.py:604\u001b[0m, in \u001b[0;36mImage._copy\u001b[1;34m(self)\u001b[0m\n\u001b[0;32m    603\u001b[0m \u001b[38;5;28;01mdef\u001b[39;00m \u001b[38;5;21m_copy\u001b[39m(\u001b[38;5;28mself\u001b[39m):\n\u001b[1;32m--> 604\u001b[0m     \u001b[38;5;28;43mself\u001b[39;49m\u001b[38;5;241;43m.\u001b[39;49m\u001b[43mload\u001b[49m\u001b[43m(\u001b[49m\u001b[43m)\u001b[49m\n\u001b[0;32m    605\u001b[0m     \u001b[38;5;28mself\u001b[39m\u001b[38;5;241m.\u001b[39mim \u001b[38;5;241m=\u001b[39m \u001b[38;5;28mself\u001b[39m\u001b[38;5;241m.\u001b[39mim\u001b[38;5;241m.\u001b[39mcopy()\n",
      "File \u001b[1;32mC:\\ProgramData\\anaconda3\\envs\\myenv\\lib\\site-packages\\PIL\\ImageFile.py:162\u001b[0m, in \u001b[0;36mImageFile.load\u001b[1;34m(self)\u001b[0m\n\u001b[0;32m    160\u001b[0m     \u001b[38;5;28;01mraise\u001b[39;00m \u001b[38;5;167;01mOSError\u001b[39;00m(msg)\n\u001b[1;32m--> 162\u001b[0m pixel \u001b[38;5;241m=\u001b[39m \u001b[43mImage\u001b[49m\u001b[38;5;241;43m.\u001b[39;49m\u001b[43mImage\u001b[49m\u001b[38;5;241;43m.\u001b[39;49m\u001b[43mload\u001b[49m\u001b[43m(\u001b[49m\u001b[38;5;28;43mself\u001b[39;49m\u001b[43m)\u001b[49m\n\u001b[0;32m    163\u001b[0m \u001b[38;5;28;01mif\u001b[39;00m \u001b[38;5;129;01mnot\u001b[39;00m \u001b[38;5;28mself\u001b[39m\u001b[38;5;241m.\u001b[39mtile:\n",
      "File \u001b[1;32mC:\\ProgramData\\anaconda3\\envs\\myenv\\lib\\site-packages\\PIL\\Image.py:876\u001b[0m, in \u001b[0;36mImage.load\u001b[1;34m(self)\u001b[0m\n\u001b[0;32m    875\u001b[0m         \u001b[38;5;28;01mreturn\u001b[39;00m \u001b[38;5;28mself\u001b[39m\u001b[38;5;241m.\u001b[39mpyaccess\n\u001b[1;32m--> 876\u001b[0m \u001b[38;5;28;01mreturn\u001b[39;00m \u001b[38;5;28;43mself\u001b[39;49m\u001b[38;5;241;43m.\u001b[39;49m\u001b[43mim\u001b[49m\u001b[38;5;241;43m.\u001b[39;49m\u001b[43mpixel_access\u001b[49m(\u001b[38;5;28mself\u001b[39m\u001b[38;5;241m.\u001b[39mreadonly)\n",
      "File \u001b[1;32mC:\\ProgramData\\anaconda3\\envs\\myenv\\lib\\site-packages\\PIL\\_util.py:19\u001b[0m, in \u001b[0;36mDeferredError.__getattr__\u001b[1;34m(self, elt)\u001b[0m\n\u001b[0;32m     18\u001b[0m \u001b[38;5;28;01mdef\u001b[39;00m \u001b[38;5;21m__getattr__\u001b[39m(\u001b[38;5;28mself\u001b[39m, elt):\n\u001b[1;32m---> 19\u001b[0m     \u001b[38;5;28;01mraise\u001b[39;00m \u001b[38;5;28mself\u001b[39m\u001b[38;5;241m.\u001b[39mex\n",
      "\u001b[1;31mValueError\u001b[0m: Operation on closed image",
      "\nThe above exception was the direct cause of the following exception:\n",
      "\u001b[1;31mValueError\u001b[0m                                Traceback (most recent call last)",
      "File \u001b[1;32mC:\\ProgramData\\anaconda3\\envs\\myenv\\lib\\site-packages\\IPython\\core\\formatters.py:342\u001b[0m, in \u001b[0;36mBaseFormatter.__call__\u001b[1;34m(self, obj)\u001b[0m\n\u001b[0;32m    340\u001b[0m     method \u001b[38;5;241m=\u001b[39m get_real_method(obj, \u001b[38;5;28mself\u001b[39m\u001b[38;5;241m.\u001b[39mprint_method)\n\u001b[0;32m    341\u001b[0m     \u001b[38;5;28;01mif\u001b[39;00m method \u001b[38;5;129;01mis\u001b[39;00m \u001b[38;5;129;01mnot\u001b[39;00m \u001b[38;5;28;01mNone\u001b[39;00m:\n\u001b[1;32m--> 342\u001b[0m         \u001b[38;5;28;01mreturn\u001b[39;00m \u001b[43mmethod\u001b[49m\u001b[43m(\u001b[49m\u001b[43m)\u001b[49m\n\u001b[0;32m    343\u001b[0m     \u001b[38;5;28;01mreturn\u001b[39;00m \u001b[38;5;28;01mNone\u001b[39;00m\n\u001b[0;32m    344\u001b[0m \u001b[38;5;28;01melse\u001b[39;00m:\n",
      "File \u001b[1;32mC:\\ProgramData\\anaconda3\\envs\\myenv\\lib\\site-packages\\PIL\\Image.py:684\u001b[0m, in \u001b[0;36mImage._repr_png_\u001b[1;34m(self)\u001b[0m\n\u001b[0;32m    682\u001b[0m \u001b[38;5;28;01mexcept\u001b[39;00m \u001b[38;5;167;01mException\u001b[39;00m \u001b[38;5;28;01mas\u001b[39;00m e:\n\u001b[0;32m    683\u001b[0m     msg \u001b[38;5;241m=\u001b[39m \u001b[38;5;124m\"\u001b[39m\u001b[38;5;124mCould not save to PNG for display\u001b[39m\u001b[38;5;124m\"\u001b[39m\n\u001b[1;32m--> 684\u001b[0m     \u001b[38;5;28;01mraise\u001b[39;00m \u001b[38;5;167;01mValueError\u001b[39;00m(msg) \u001b[38;5;28;01mfrom\u001b[39;00m \u001b[38;5;21;01me\u001b[39;00m\n\u001b[0;32m    685\u001b[0m \u001b[38;5;28;01mreturn\u001b[39;00m b\u001b[38;5;241m.\u001b[39mgetvalue()\n",
      "\u001b[1;31mValueError\u001b[0m: Could not save to PNG for display"
     ]
    },
    {
     "data": {
      "text/plain": [
       "<PIL.JpegImagePlugin.JpegImageFile image mode=L size=70x31>"
      ]
     },
     "execution_count": 5,
     "metadata": {},
     "output_type": "execute_result"
    }
   ],
   "source": [
    "test_images[1]"
   ]
  },
  {
   "cell_type": "code",
   "execution_count": null,
   "id": "91a28e2c",
   "metadata": {},
   "outputs": [],
   "source": []
  }
 ],
 "metadata": {
  "kernelspec": {
   "display_name": "Python 3 (ipykernel)",
   "language": "python",
   "name": "python3"
  },
  "language_info": {
   "codemirror_mode": {
    "name": "ipython",
    "version": 3
   },
   "file_extension": ".py",
   "mimetype": "text/x-python",
   "name": "python",
   "nbconvert_exporter": "python",
   "pygments_lexer": "ipython3",
   "version": "3.10.9"
  }
 },
 "nbformat": 4,
 "nbformat_minor": 5
}
