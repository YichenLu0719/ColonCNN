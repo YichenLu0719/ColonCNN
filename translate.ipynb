{
 "cells": [
  {
   "cell_type": "code",
   "execution_count": 3,
   "id": "4e272055",
   "metadata": {},
   "outputs": [],
   "source": [
    "import os\n",
    "import random\n",
    "import shutil\n",
    "from tqdm import tqdm\n",
    "from PIL import Image"
   ]
  },
  {
   "cell_type": "code",
   "execution_count": 1,
   "id": "deee7515",
   "metadata": {},
   "outputs": [
    {
     "name": "stdout",
     "output_type": "stream",
     "text": [
      "正在將good資料夾中的圖片移至test\n"
     ]
    },
    {
     "name": "stderr",
     "output_type": "stream",
     "text": [
      "100%|████████████████████████████████████████████████████████████████████████████████| 23/23 [00:00<00:00, 3867.58it/s]\n"
     ]
    },
    {
     "name": "stdout",
     "output_type": "stream",
     "text": [
      "正在將bad資料夾中的圖片移至test\n"
     ]
    },
    {
     "name": "stderr",
     "output_type": "stream",
     "text": [
      "100%|████████████████████████████████████████████████████████████████████████████████| 55/55 [00:00<00:00, 4241.89it/s]"
     ]
    },
    {
     "name": "stdout",
     "output_type": "stream",
     "text": [
      "已完成20%隨機分割\n"
     ]
    },
    {
     "name": "stderr",
     "output_type": "stream",
     "text": [
      "\n"
     ]
    }
   ],
   "source": [
    "\n",
    "train_dir = 'train'  # train資料夾路徑\n",
    "test_dir = 'test'    # test資料夾路徑\n",
    "\n",
    "good_dir_train = os.path.join(train_dir, 'good')  # train資料夾中的good子資料夾路徑\n",
    "bad_dir_train = os.path.join(train_dir, 'bad')    # train資料夾中的bad子資料夾路徑\n",
    "\n",
    "good_dir_test = os.path.join(test_dir, 'good')    # test資料夾中的good子資料夾路徑\n",
    "bad_dir_test = os.path.join(test_dir, 'bad')      # test資料夾中的bad子資料夾路徑\n",
    "\n",
    "os.makedirs(good_dir_test, exist_ok=True)\n",
    "os.makedirs(bad_dir_test, exist_ok=True)\n",
    "\n",
    "good_images = os.listdir(good_dir_train)  # 列出good子資料夾中的圖片文件\n",
    "bad_images = os.listdir(bad_dir_train)    # 列出bad子資料夾中的圖片文件\n",
    "\n",
    "num_good_images_to_move = int(0.2 * len(good_images))  # 要移動的good圖片數量\n",
    "num_bad_images_to_move = int(0.2 * len(bad_images))    # 要移動的bad圖片數量\n",
    "\n",
    "random.shuffle(good_images)\n",
    "random.shuffle(bad_images)\n",
    "\n",
    "print(\"正在將good資料夾中的圖片移至test\")\n",
    "for i in tqdm(range(num_good_images_to_move)):\n",
    "    image_name = good_images[i]\n",
    "    source_path = os.path.join(good_dir_train, image_name)\n",
    "    destination_path = os.path.join(good_dir_test, image_name)\n",
    "    shutil.move(source_path, destination_path)\n",
    "\n",
    "print(\"正在將bad資料夾中的圖片移至test\")\n",
    "for i in tqdm(range(num_bad_images_to_move)):\n",
    "    image_name = bad_images[i]\n",
    "    source_path = os.path.join(bad_dir_train, image_name)\n",
    "    destination_path = os.path.join(bad_dir_test, image_name)\n",
    "    shutil.move(source_path, destination_path)\n",
    "\n",
    "print(\"已完成20%隨機分割\")"
   ]
  },
  {
   "cell_type": "code",
   "execution_count": 5,
   "id": "24a36ba7",
   "metadata": {},
   "outputs": [
    {
     "name": "stderr",
     "output_type": "stream",
     "text": [
      "處理圖像 in train\\good: 100%|██████████████████████████████████████████████████████████| 93/93 [00:01<00:00, 86.18it/s]\n",
      "處理圖像 in train\\bad: 100%|█████████████████████████████████████████████████████████| 224/224 [00:02<00:00, 85.14it/s]\n",
      "處理圖像 in test\\good: 100%|███████████████████████████████████████████████████████████| 23/23 [00:00<00:00, 79.25it/s]\n",
      "處理圖像 in test\\bad: 100%|████████████████████████████████████████████████████████████| 55/55 [00:00<00:00, 87.52it/s]"
     ]
    },
    {
     "name": "stdout",
     "output_type": "stream",
     "text": [
      "完成圖像處理和重新命名\n"
     ]
    },
    {
     "name": "stderr",
     "output_type": "stream",
     "text": [
      "\n"
     ]
    }
   ],
   "source": [
    "# 定義train、test、train2、test2資料夾的路徑\n",
    "train_dir = 'train'\n",
    "test_dir = 'test'\n",
    "train2_dir = 'train2'\n",
    "test2_dir = 'test2'\n",
    "\n",
    "# 定義good和bad子資料夾的路徑\n",
    "good_dir_train = os.path.join(train_dir, 'good')\n",
    "bad_dir_train = os.path.join(train_dir, 'bad')\n",
    "good_dir_test = os.path.join(test_dir, 'good')\n",
    "bad_dir_test = os.path.join(test_dir, 'bad')\n",
    "\n",
    "# 創建train2和test2資料夾及其子資料夾（如果不存在）\n",
    "os.makedirs(os.path.join(train2_dir, 'good'), exist_ok=True)\n",
    "os.makedirs(os.path.join(train2_dir, 'bad'), exist_ok=True)\n",
    "os.makedirs(os.path.join(test2_dir, 'good'), exist_ok=True)\n",
    "os.makedirs(os.path.join(test2_dir, 'bad'), exist_ok=True)\n",
    "\n",
    "# 複製圖像並執行180度翻轉，然後重新命名\n",
    "def process_images(source_dir, dest_dir, prefix):\n",
    "    images = os.listdir(source_dir)\n",
    "    for i, image_name in enumerate(tqdm(images, desc=f\"處理圖像 in {source_dir}\")):\n",
    "        source_path = os.path.join(source_dir, image_name)\n",
    "        destination_path = os.path.join(dest_dir, f\"{prefix}{i}.jpg\")\n",
    "\n",
    "        # 複製原始圖像\n",
    "        shutil.copy(source_path, destination_path)\n",
    "\n",
    "        # 開啟圖像並執行180度翻轉\n",
    "        image = Image.open(source_path)\n",
    "        rotated_image = image.rotate(180)\n",
    "\n",
    "        # 保存翻轉後的圖像\n",
    "        rotated_image.save(os.path.join(dest_dir, f\"{prefix}{i}_flipped.jpg\"))\n",
    "\n",
    "# 處理train和test中的good和bad圖像\n",
    "process_images(good_dir_train, os.path.join(train2_dir, 'good'), 'good')\n",
    "process_images(bad_dir_train, os.path.join(train2_dir, 'bad'), 'bad')\n",
    "process_images(good_dir_test, os.path.join(test2_dir, 'good'), 'good')\n",
    "process_images(bad_dir_test, os.path.join(test2_dir, 'bad'), 'bad')\n",
    "\n",
    "print(\"完成圖像處理和重新命名\")"
   ]
  },
  {
   "cell_type": "code",
   "execution_count": null,
   "id": "71f6096d",
   "metadata": {},
   "outputs": [],
   "source": []
  }
 ],
 "metadata": {
  "kernelspec": {
   "display_name": "Python 3 (ipykernel)",
   "language": "python",
   "name": "python3"
  },
  "language_info": {
   "codemirror_mode": {
    "name": "ipython",
    "version": 3
   },
   "file_extension": ".py",
   "mimetype": "text/x-python",
   "name": "python",
   "nbconvert_exporter": "python",
   "pygments_lexer": "ipython3",
   "version": "3.7.15"
  }
 },
 "nbformat": 4,
 "nbformat_minor": 5
}
